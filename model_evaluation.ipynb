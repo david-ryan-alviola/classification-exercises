{
 "cells": [
  {
   "cell_type": "code",
   "execution_count": 83,
   "id": "rising-organic",
   "metadata": {},
   "outputs": [],
   "source": [
    "import pandas as pd\n",
    "import matplotlib.pyplot as plt\n",
    "import seaborn as sns\n",
    "import warnings as warn\n",
    "import sys\n",
    "import env\n",
    "import numpy as np\n",
    "\n",
    "sys.path.append(env.util_repo)\n",
    "\n",
    "from pydataset import data\n",
    "from sklearn.metrics import accuracy_score, precision_score, recall_score, classification_report\n",
    "from scipy import stats\n",
    "from utilities import evaluate_hypothesis_ttest, evaluate_hypothesis_pcorrelation\n",
    "\n",
    "warn.filterwarnings(\"ignore\")"
   ]
  },
  {
   "cell_type": "markdown",
   "id": "ethical-timber",
   "metadata": {},
   "source": [
    "### 1. Create a new file named model_evaluation.py or model_evaluation.ipynb for these exercises."
   ]
  },
  {
   "cell_type": "markdown",
   "id": "elect-deficit",
   "metadata": {},
   "source": [
    "### 2. Given the following confusion matrix, evaluate (by hand) the model's performance.\n",
    "\n",
    "|               | pred dog   | pred cat   |\n",
    "|:------------  |-----------:|-----------:|\n",
    "| actual dog    |         46 |         7  |\n",
    "| actual cat    |         13 |         34 |"
   ]
  },
  {
   "cell_type": "code",
   "execution_count": 8,
   "id": "awful-negative",
   "metadata": {},
   "outputs": [
    {
     "name": "stdout",
     "output_type": "stream",
     "text": [
      "Accuracy:  80.0%\n",
      "Precision:  77.97%\n",
      "Recall:  86.79%\n"
     ]
    }
   ],
   "source": [
    "# Dogs are the 'positive' outcome\n",
    "accuracy = (46 + 34) / (46 + 7 + 13 + 34)\n",
    "print(f\"Accuracy:  {round(accuracy * 100, 2)}%\")\n",
    "\n",
    "precision = 46 / (46 + 13)\n",
    "print(f\"Precision:  {round(precision * 100, 2)}%\")\n",
    "\n",
    "recall = 46 / (46 + 7)\n",
    "print(f\"Recall:  {round(recall * 100, 2)}%\")"
   ]
  },
  {
   "cell_type": "markdown",
   "id": "corresponding-resistance",
   "metadata": {},
   "source": [
    "<li>In the context of this problem, what is a false positive?\n",
    "<p>If we set dogs as the 'positive' outcome, false positives are when we predict dog, but actually get a cat. There were 13 false positives."
   ]
  },
  {
   "cell_type": "markdown",
   "id": "written-banana",
   "metadata": {},
   "source": [
    "<li>In the context of this problem, what is a false negative?\n",
    "<p>A false negative is when we predict cat, but actually get a dog. There were 7 false negatives."
   ]
  },
  {
   "cell_type": "markdown",
   "id": "seventh-preliminary",
   "metadata": {},
   "source": [
    "<li>How would you describe this model?\n",
    "<p>This model is highly accurate since it correctly predicted the outcomes 80% of the time which means that percentage of all predictions matched the actual result. It is also highly precise when predicting positive outcomes since it has a precision of 78% which means that percentage of dog predictions were correct. The recall rate is also high at 87% which means that percentage of actual dog results was predicted correctly."
   ]
  },
  {
   "cell_type": "markdown",
   "id": "central-giving",
   "metadata": {},
   "source": [
    "### 3. You are working as a datascientist working for Codeup Cody Creator (C3 for short), a rubber-duck manufacturing plant.\n",
    "\n",
    "#### Unfortunately, some of the rubber ducks that are produced will have defects. Your team has built several models that try to predict those defects, and the data from their predictions can be found here.\n",
    "\n",
    "#### Use the predictions dataset and pandas to help answer the following questions:"
   ]
  },
  {
   "cell_type": "code",
   "execution_count": 98,
   "id": "celtic-provider",
   "metadata": {},
   "outputs": [
    {
     "data": {
      "text/html": [
       "<div>\n",
       "<style scoped>\n",
       "    .dataframe tbody tr th:only-of-type {\n",
       "        vertical-align: middle;\n",
       "    }\n",
       "\n",
       "    .dataframe tbody tr th {\n",
       "        vertical-align: top;\n",
       "    }\n",
       "\n",
       "    .dataframe thead th {\n",
       "        text-align: right;\n",
       "    }\n",
       "</style>\n",
       "<table border=\"1\" class=\"dataframe\">\n",
       "  <thead>\n",
       "    <tr style=\"text-align: right;\">\n",
       "      <th></th>\n",
       "      <th>actual</th>\n",
       "      <th>model1</th>\n",
       "      <th>model2</th>\n",
       "      <th>model3</th>\n",
       "    </tr>\n",
       "  </thead>\n",
       "  <tbody>\n",
       "    <tr>\n",
       "      <th>0</th>\n",
       "      <td>No Defect</td>\n",
       "      <td>No Defect</td>\n",
       "      <td>Defect</td>\n",
       "      <td>No Defect</td>\n",
       "    </tr>\n",
       "    <tr>\n",
       "      <th>1</th>\n",
       "      <td>No Defect</td>\n",
       "      <td>No Defect</td>\n",
       "      <td>Defect</td>\n",
       "      <td>Defect</td>\n",
       "    </tr>\n",
       "    <tr>\n",
       "      <th>2</th>\n",
       "      <td>No Defect</td>\n",
       "      <td>No Defect</td>\n",
       "      <td>Defect</td>\n",
       "      <td>No Defect</td>\n",
       "    </tr>\n",
       "    <tr>\n",
       "      <th>3</th>\n",
       "      <td>No Defect</td>\n",
       "      <td>Defect</td>\n",
       "      <td>Defect</td>\n",
       "      <td>Defect</td>\n",
       "    </tr>\n",
       "    <tr>\n",
       "      <th>4</th>\n",
       "      <td>No Defect</td>\n",
       "      <td>No Defect</td>\n",
       "      <td>Defect</td>\n",
       "      <td>No Defect</td>\n",
       "    </tr>\n",
       "  </tbody>\n",
       "</table>\n",
       "</div>"
      ],
      "text/plain": [
       "      actual     model1  model2     model3\n",
       "0  No Defect  No Defect  Defect  No Defect\n",
       "1  No Defect  No Defect  Defect     Defect\n",
       "2  No Defect  No Defect  Defect  No Defect\n",
       "3  No Defect     Defect  Defect     Defect\n",
       "4  No Defect  No Defect  Defect  No Defect"
      ]
     },
     "execution_count": 98,
     "metadata": {},
     "output_type": "execute_result"
    }
   ],
   "source": [
    "ducks_df = pd.read_csv(env.data_path + \"/c3.csv\")\n",
    "ducks_df.head()"
   ]
  },
  {
   "cell_type": "code",
   "execution_count": 99,
   "id": "cosmetic-longitude",
   "metadata": {},
   "outputs": [
    {
     "data": {
      "text/plain": [
       "(200, 4)"
      ]
     },
     "execution_count": 99,
     "metadata": {},
     "output_type": "execute_result"
    }
   ],
   "source": [
    "ducks_df.shape"
   ]
  },
  {
   "cell_type": "code",
   "execution_count": 100,
   "id": "posted-wagner",
   "metadata": {},
   "outputs": [
    {
     "data": {
      "text/html": [
       "<div>\n",
       "<style scoped>\n",
       "    .dataframe tbody tr th:only-of-type {\n",
       "        vertical-align: middle;\n",
       "    }\n",
       "\n",
       "    .dataframe tbody tr th {\n",
       "        vertical-align: top;\n",
       "    }\n",
       "\n",
       "    .dataframe thead th {\n",
       "        text-align: right;\n",
       "    }\n",
       "</style>\n",
       "<table border=\"1\" class=\"dataframe\">\n",
       "  <thead>\n",
       "    <tr style=\"text-align: right;\">\n",
       "      <th>actual</th>\n",
       "      <th>Defect</th>\n",
       "      <th>No Defect</th>\n",
       "    </tr>\n",
       "    <tr>\n",
       "      <th>predict</th>\n",
       "      <th></th>\n",
       "      <th></th>\n",
       "    </tr>\n",
       "  </thead>\n",
       "  <tbody>\n",
       "    <tr>\n",
       "      <th>Defect</th>\n",
       "      <td>8</td>\n",
       "      <td>2</td>\n",
       "    </tr>\n",
       "    <tr>\n",
       "      <th>No Defect</th>\n",
       "      <td>8</td>\n",
       "      <td>182</td>\n",
       "    </tr>\n",
       "  </tbody>\n",
       "</table>\n",
       "</div>"
      ],
      "text/plain": [
       "actual     Defect  No Defect\n",
       "predict                     \n",
       "Defect          8          2\n",
       "No Defect       8        182"
      ]
     },
     "execution_count": 100,
     "metadata": {},
     "output_type": "execute_result"
    }
   ],
   "source": [
    "model_1 = ducks_df[['actual', 'model1']]\n",
    "model_1.rename(columns={'model1' : 'predict'}, inplace=True)\n",
    "pd.crosstab(model_1.predict, model_1.actual)"
   ]
  },
  {
   "cell_type": "code",
   "execution_count": 101,
   "id": "standing-cargo",
   "metadata": {},
   "outputs": [
    {
     "data": {
      "text/html": [
       "<div>\n",
       "<style scoped>\n",
       "    .dataframe tbody tr th:only-of-type {\n",
       "        vertical-align: middle;\n",
       "    }\n",
       "\n",
       "    .dataframe tbody tr th {\n",
       "        vertical-align: top;\n",
       "    }\n",
       "\n",
       "    .dataframe thead th {\n",
       "        text-align: right;\n",
       "    }\n",
       "</style>\n",
       "<table border=\"1\" class=\"dataframe\">\n",
       "  <thead>\n",
       "    <tr style=\"text-align: right;\">\n",
       "      <th>actual</th>\n",
       "      <th>Defect</th>\n",
       "      <th>No Defect</th>\n",
       "    </tr>\n",
       "    <tr>\n",
       "      <th>predict</th>\n",
       "      <th></th>\n",
       "      <th></th>\n",
       "    </tr>\n",
       "  </thead>\n",
       "  <tbody>\n",
       "    <tr>\n",
       "      <th>Defect</th>\n",
       "      <td>9</td>\n",
       "      <td>81</td>\n",
       "    </tr>\n",
       "    <tr>\n",
       "      <th>No Defect</th>\n",
       "      <td>7</td>\n",
       "      <td>103</td>\n",
       "    </tr>\n",
       "  </tbody>\n",
       "</table>\n",
       "</div>"
      ],
      "text/plain": [
       "actual     Defect  No Defect\n",
       "predict                     \n",
       "Defect          9         81\n",
       "No Defect       7        103"
      ]
     },
     "execution_count": 101,
     "metadata": {},
     "output_type": "execute_result"
    }
   ],
   "source": [
    "model_2 = ducks_df[['actual', 'model2']]\n",
    "model_2.rename(columns={'model2' : 'predict'}, inplace=True)\n",
    "pd.crosstab(model_2.predict, model_2.actual)"
   ]
  },
  {
   "cell_type": "code",
   "execution_count": 102,
   "id": "tropical-pointer",
   "metadata": {},
   "outputs": [
    {
     "data": {
      "text/html": [
       "<div>\n",
       "<style scoped>\n",
       "    .dataframe tbody tr th:only-of-type {\n",
       "        vertical-align: middle;\n",
       "    }\n",
       "\n",
       "    .dataframe tbody tr th {\n",
       "        vertical-align: top;\n",
       "    }\n",
       "\n",
       "    .dataframe thead th {\n",
       "        text-align: right;\n",
       "    }\n",
       "</style>\n",
       "<table border=\"1\" class=\"dataframe\">\n",
       "  <thead>\n",
       "    <tr style=\"text-align: right;\">\n",
       "      <th>actual</th>\n",
       "      <th>Defect</th>\n",
       "      <th>No Defect</th>\n",
       "    </tr>\n",
       "    <tr>\n",
       "      <th>predict</th>\n",
       "      <th></th>\n",
       "      <th></th>\n",
       "    </tr>\n",
       "  </thead>\n",
       "  <tbody>\n",
       "    <tr>\n",
       "      <th>Defect</th>\n",
       "      <td>13</td>\n",
       "      <td>86</td>\n",
       "    </tr>\n",
       "    <tr>\n",
       "      <th>No Defect</th>\n",
       "      <td>3</td>\n",
       "      <td>98</td>\n",
       "    </tr>\n",
       "  </tbody>\n",
       "</table>\n",
       "</div>"
      ],
      "text/plain": [
       "actual     Defect  No Defect\n",
       "predict                     \n",
       "Defect         13         86\n",
       "No Defect       3         98"
      ]
     },
     "execution_count": 102,
     "metadata": {},
     "output_type": "execute_result"
    }
   ],
   "source": [
    "model_3 = ducks_df[['actual', 'model3']]\n",
    "model_3.rename(columns={'model3' : 'predict'}, inplace=True)\n",
    "pd.crosstab(model_3.predict, model_3.actual)"
   ]
  },
  {
   "cell_type": "markdown",
   "id": "veterinary-tobacco",
   "metadata": {},
   "source": [
    "<li>An internal team wants to investigate the cause of the manufacturing defects. They tell you that they want to identify as many of the ducks that have a defect as possible. Which evaluation metric would be appropriate here? Which model would be the best fit for this use case?"
   ]
  },
  {
   "cell_type": "code",
   "execution_count": 103,
   "id": "asian-niger",
   "metadata": {},
   "outputs": [
    {
     "data": {
      "text/plain": [
       "0.5"
      ]
     },
     "execution_count": 103,
     "metadata": {},
     "output_type": "execute_result"
    }
   ],
   "source": [
    "# Define 'Defect' as the positive outcome then measure recall of each model.\n",
    "# Since missing a defective duck would be costly, we should optimize for recall.\n",
    "model_1_recall = 8 / (8 + 8)\n",
    "model_1_recall"
   ]
  },
  {
   "cell_type": "code",
   "execution_count": 108,
   "id": "collectible-basement",
   "metadata": {},
   "outputs": [],
   "source": [
    "defects_model_1 = ducks_df[ducks_df.model1 == 'defect']\n",
    "# See solutions for rest of alternative method"
   ]
  },
  {
   "cell_type": "code",
   "execution_count": 30,
   "id": "complete-train",
   "metadata": {},
   "outputs": [
    {
     "data": {
      "text/plain": [
       "0.5625"
      ]
     },
     "execution_count": 30,
     "metadata": {},
     "output_type": "execute_result"
    }
   ],
   "source": [
    "model_2_recall = 9 / (9 + 7)\n",
    "model_2_recall"
   ]
  },
  {
   "cell_type": "code",
   "execution_count": 31,
   "id": "vital-threat",
   "metadata": {},
   "outputs": [
    {
     "data": {
      "text/plain": [
       "0.8125"
      ]
     },
     "execution_count": 31,
     "metadata": {},
     "output_type": "execute_result"
    }
   ],
   "source": [
    "model_3_recall = 13 / (13 + 3)\n",
    "model_3_recall"
   ]
  },
  {
   "cell_type": "markdown",
   "id": "peaceful-success",
   "metadata": {},
   "source": [
    "#### Model 3 has the best recall at 81.25% suggesting it minimizes false negatives."
   ]
  },
  {
   "cell_type": "markdown",
   "id": "hungarian-emphasis",
   "metadata": {},
   "source": [
    "<li> Recently several stories in the local news have come out highlighting customers who received a rubber duck with a defect, and portraying C3 in a bad light. The PR team has decided to launch a program that gives customers with a defective duck a vacation to Hawaii. They need you to predict which ducks will have defects, but tell you the really don't want to accidentally give out a vacation package when the duck really doesn't have a defect. Which evaluation metric would be appropriate here? Which model would be the best fit for this use case?"
   ]
  },
  {
   "cell_type": "code",
   "execution_count": 32,
   "id": "alternative-ecuador",
   "metadata": {},
   "outputs": [
    {
     "data": {
      "text/plain": [
       "0.8"
      ]
     },
     "execution_count": 32,
     "metadata": {},
     "output_type": "execute_result"
    }
   ],
   "source": [
    "# Define 'Defect' as the positive outcome and then measure precision.\n",
    "# Since false positives become costly with the free vacation, it becomes important to optimize for precision.\n",
    "# This will maximize the percentage of positive predictions.\n",
    "\n",
    "model_1_precision = 8 / (8 + 2)\n",
    "model_1_precision"
   ]
  },
  {
   "cell_type": "code",
   "execution_count": 33,
   "id": "theoretical-spectacular",
   "metadata": {},
   "outputs": [
    {
     "data": {
      "text/plain": [
       "0.1"
      ]
     },
     "execution_count": 33,
     "metadata": {},
     "output_type": "execute_result"
    }
   ],
   "source": [
    "model_2_precision = 9 / (9 + 81)\n",
    "model_2_precision"
   ]
  },
  {
   "cell_type": "code",
   "execution_count": 35,
   "id": "royal-promise",
   "metadata": {},
   "outputs": [
    {
     "data": {
      "text/plain": [
       "0.13131313131313133"
      ]
     },
     "execution_count": 35,
     "metadata": {},
     "output_type": "execute_result"
    }
   ],
   "source": [
    "model_3_precision = 13 / (13 + 86)\n",
    "model_3_precision"
   ]
  },
  {
   "cell_type": "markdown",
   "id": "related-embassy",
   "metadata": {},
   "source": [
    "#### Model 1 has the highest precision meaning it has the lowest amount of false positives."
   ]
  },
  {
   "cell_type": "markdown",
   "id": "recognized-blanket",
   "metadata": {},
   "source": [
    "### 4. You are working as a data scientist for Gives You Paws ™, a subscription based service that shows you cute pictures of dogs or cats (or both for an additional fee).\n",
    "\n",
    "<p>At Gives You Paws, anyone can upload pictures of their cats or dogs. The photos are then put through a two step process. First an automated algorithm tags pictures as either a cat or a dog (Phase I). Next, the photos that have been initially identified are put through another round of review, possibly with some human oversight, before being presented to the users (Phase II).\n",
    "\n",
    "<p>Several models have already been developed with the data, and you can find their results here.\n",
    "\n",
    "<p>Given this dataset, use pandas to create a baseline model (i.e. a model that just predicts the most common class) and answer the following questions:"
   ]
  },
  {
   "cell_type": "code",
   "execution_count": 126,
   "id": "separate-breach",
   "metadata": {},
   "outputs": [
    {
     "data": {
      "text/html": [
       "<div>\n",
       "<style scoped>\n",
       "    .dataframe tbody tr th:only-of-type {\n",
       "        vertical-align: middle;\n",
       "    }\n",
       "\n",
       "    .dataframe tbody tr th {\n",
       "        vertical-align: top;\n",
       "    }\n",
       "\n",
       "    .dataframe thead th {\n",
       "        text-align: right;\n",
       "    }\n",
       "</style>\n",
       "<table border=\"1\" class=\"dataframe\">\n",
       "  <thead>\n",
       "    <tr style=\"text-align: right;\">\n",
       "      <th></th>\n",
       "      <th>actual</th>\n",
       "      <th>model1</th>\n",
       "      <th>model2</th>\n",
       "      <th>model3</th>\n",
       "      <th>model4</th>\n",
       "    </tr>\n",
       "  </thead>\n",
       "  <tbody>\n",
       "    <tr>\n",
       "      <th>0</th>\n",
       "      <td>cat</td>\n",
       "      <td>cat</td>\n",
       "      <td>dog</td>\n",
       "      <td>cat</td>\n",
       "      <td>dog</td>\n",
       "    </tr>\n",
       "    <tr>\n",
       "      <th>1</th>\n",
       "      <td>dog</td>\n",
       "      <td>dog</td>\n",
       "      <td>cat</td>\n",
       "      <td>cat</td>\n",
       "      <td>dog</td>\n",
       "    </tr>\n",
       "    <tr>\n",
       "      <th>2</th>\n",
       "      <td>dog</td>\n",
       "      <td>cat</td>\n",
       "      <td>cat</td>\n",
       "      <td>cat</td>\n",
       "      <td>dog</td>\n",
       "    </tr>\n",
       "    <tr>\n",
       "      <th>3</th>\n",
       "      <td>dog</td>\n",
       "      <td>dog</td>\n",
       "      <td>dog</td>\n",
       "      <td>cat</td>\n",
       "      <td>dog</td>\n",
       "    </tr>\n",
       "    <tr>\n",
       "      <th>4</th>\n",
       "      <td>cat</td>\n",
       "      <td>cat</td>\n",
       "      <td>cat</td>\n",
       "      <td>dog</td>\n",
       "      <td>dog</td>\n",
       "    </tr>\n",
       "  </tbody>\n",
       "</table>\n",
       "</div>"
      ],
      "text/plain": [
       "  actual model1 model2 model3 model4\n",
       "0    cat    cat    dog    cat    dog\n",
       "1    dog    dog    cat    cat    dog\n",
       "2    dog    cat    cat    cat    dog\n",
       "3    dog    dog    dog    cat    dog\n",
       "4    cat    cat    cat    dog    dog"
      ]
     },
     "execution_count": 126,
     "metadata": {},
     "output_type": "execute_result"
    }
   ],
   "source": [
    "cats_and_dogs_df = pd.read_csv(env.data_path + \"/gives_you_paws.csv\")\n",
    "cats_and_dogs_df.head()"
   ]
  },
  {
   "cell_type": "code",
   "execution_count": 127,
   "id": "exterior-tokyo",
   "metadata": {},
   "outputs": [
    {
     "data": {
      "text/plain": [
       "(5000, 5)"
      ]
     },
     "execution_count": 127,
     "metadata": {},
     "output_type": "execute_result"
    }
   ],
   "source": [
    "cats_and_dogs_df.shape"
   ]
  },
  {
   "cell_type": "code",
   "execution_count": 128,
   "id": "vietnamese-boutique",
   "metadata": {},
   "outputs": [
    {
     "data": {
      "text/html": [
       "<div>\n",
       "<style scoped>\n",
       "    .dataframe tbody tr th:only-of-type {\n",
       "        vertical-align: middle;\n",
       "    }\n",
       "\n",
       "    .dataframe tbody tr th {\n",
       "        vertical-align: top;\n",
       "    }\n",
       "\n",
       "    .dataframe thead th {\n",
       "        text-align: right;\n",
       "    }\n",
       "</style>\n",
       "<table border=\"1\" class=\"dataframe\">\n",
       "  <thead>\n",
       "    <tr style=\"text-align: right;\">\n",
       "      <th>predict</th>\n",
       "      <th>cat</th>\n",
       "      <th>dog</th>\n",
       "    </tr>\n",
       "    <tr>\n",
       "      <th>actual</th>\n",
       "      <th></th>\n",
       "      <th></th>\n",
       "    </tr>\n",
       "  </thead>\n",
       "  <tbody>\n",
       "    <tr>\n",
       "      <th>cat</th>\n",
       "      <td>1423</td>\n",
       "      <td>323</td>\n",
       "    </tr>\n",
       "    <tr>\n",
       "      <th>dog</th>\n",
       "      <td>640</td>\n",
       "      <td>2614</td>\n",
       "    </tr>\n",
       "  </tbody>\n",
       "</table>\n",
       "</div>"
      ],
      "text/plain": [
       "predict   cat   dog\n",
       "actual             \n",
       "cat      1423   323\n",
       "dog       640  2614"
      ]
     },
     "execution_count": 128,
     "metadata": {},
     "output_type": "execute_result"
    }
   ],
   "source": [
    "model_1 = cats_and_dogs_df[['actual', 'model1']]\n",
    "model_1.rename(columns={'model1' : 'predict'}, inplace=True)\n",
    "pd.crosstab(model_1.actual, model_1.predict)"
   ]
  },
  {
   "cell_type": "code",
   "execution_count": 129,
   "id": "induced-third",
   "metadata": {},
   "outputs": [
    {
     "data": {
      "text/html": [
       "<div>\n",
       "<style scoped>\n",
       "    .dataframe tbody tr th:only-of-type {\n",
       "        vertical-align: middle;\n",
       "    }\n",
       "\n",
       "    .dataframe tbody tr th {\n",
       "        vertical-align: top;\n",
       "    }\n",
       "\n",
       "    .dataframe thead th {\n",
       "        text-align: right;\n",
       "    }\n",
       "</style>\n",
       "<table border=\"1\" class=\"dataframe\">\n",
       "  <thead>\n",
       "    <tr style=\"text-align: right;\">\n",
       "      <th>predict</th>\n",
       "      <th>cat</th>\n",
       "      <th>dog</th>\n",
       "    </tr>\n",
       "    <tr>\n",
       "      <th>actual</th>\n",
       "      <th></th>\n",
       "      <th></th>\n",
       "    </tr>\n",
       "  </thead>\n",
       "  <tbody>\n",
       "    <tr>\n",
       "      <th>cat</th>\n",
       "      <td>1555</td>\n",
       "      <td>191</td>\n",
       "    </tr>\n",
       "    <tr>\n",
       "      <th>dog</th>\n",
       "      <td>1657</td>\n",
       "      <td>1597</td>\n",
       "    </tr>\n",
       "  </tbody>\n",
       "</table>\n",
       "</div>"
      ],
      "text/plain": [
       "predict   cat   dog\n",
       "actual             \n",
       "cat      1555   191\n",
       "dog      1657  1597"
      ]
     },
     "execution_count": 129,
     "metadata": {},
     "output_type": "execute_result"
    }
   ],
   "source": [
    "model_2 = cats_and_dogs_df[['actual', 'model2']]\n",
    "model_2.rename(columns={'model2' : 'predict'}, inplace=True)\n",
    "pd.crosstab(model_2.actual, model_2.predict)"
   ]
  },
  {
   "cell_type": "code",
   "execution_count": 130,
   "id": "superior-purpose",
   "metadata": {},
   "outputs": [
    {
     "data": {
      "text/html": [
       "<div>\n",
       "<style scoped>\n",
       "    .dataframe tbody tr th:only-of-type {\n",
       "        vertical-align: middle;\n",
       "    }\n",
       "\n",
       "    .dataframe tbody tr th {\n",
       "        vertical-align: top;\n",
       "    }\n",
       "\n",
       "    .dataframe thead th {\n",
       "        text-align: right;\n",
       "    }\n",
       "</style>\n",
       "<table border=\"1\" class=\"dataframe\">\n",
       "  <thead>\n",
       "    <tr style=\"text-align: right;\">\n",
       "      <th>predict</th>\n",
       "      <th>cat</th>\n",
       "      <th>dog</th>\n",
       "    </tr>\n",
       "    <tr>\n",
       "      <th>actual</th>\n",
       "      <th></th>\n",
       "      <th></th>\n",
       "    </tr>\n",
       "  </thead>\n",
       "  <tbody>\n",
       "    <tr>\n",
       "      <th>cat</th>\n",
       "      <td>893</td>\n",
       "      <td>853</td>\n",
       "    </tr>\n",
       "    <tr>\n",
       "      <th>dog</th>\n",
       "      <td>1599</td>\n",
       "      <td>1655</td>\n",
       "    </tr>\n",
       "  </tbody>\n",
       "</table>\n",
       "</div>"
      ],
      "text/plain": [
       "predict   cat   dog\n",
       "actual             \n",
       "cat       893   853\n",
       "dog      1599  1655"
      ]
     },
     "execution_count": 130,
     "metadata": {},
     "output_type": "execute_result"
    }
   ],
   "source": [
    "model_3 = cats_and_dogs_df[['actual', 'model3']]\n",
    "model_3.rename(columns={'model3' : 'predict'}, inplace=True)\n",
    "pd.crosstab(model_3.actual, model_3.predict)"
   ]
  },
  {
   "cell_type": "code",
   "execution_count": 131,
   "id": "excess-inquiry",
   "metadata": {},
   "outputs": [
    {
     "data": {
      "text/html": [
       "<div>\n",
       "<style scoped>\n",
       "    .dataframe tbody tr th:only-of-type {\n",
       "        vertical-align: middle;\n",
       "    }\n",
       "\n",
       "    .dataframe tbody tr th {\n",
       "        vertical-align: top;\n",
       "    }\n",
       "\n",
       "    .dataframe thead th {\n",
       "        text-align: right;\n",
       "    }\n",
       "</style>\n",
       "<table border=\"1\" class=\"dataframe\">\n",
       "  <thead>\n",
       "    <tr style=\"text-align: right;\">\n",
       "      <th>predict</th>\n",
       "      <th>cat</th>\n",
       "      <th>dog</th>\n",
       "    </tr>\n",
       "    <tr>\n",
       "      <th>actual</th>\n",
       "      <th></th>\n",
       "      <th></th>\n",
       "    </tr>\n",
       "  </thead>\n",
       "  <tbody>\n",
       "    <tr>\n",
       "      <th>cat</th>\n",
       "      <td>603</td>\n",
       "      <td>1143</td>\n",
       "    </tr>\n",
       "    <tr>\n",
       "      <th>dog</th>\n",
       "      <td>144</td>\n",
       "      <td>3110</td>\n",
       "    </tr>\n",
       "  </tbody>\n",
       "</table>\n",
       "</div>"
      ],
      "text/plain": [
       "predict  cat   dog\n",
       "actual            \n",
       "cat      603  1143\n",
       "dog      144  3110"
      ]
     },
     "execution_count": 131,
     "metadata": {},
     "output_type": "execute_result"
    }
   ],
   "source": [
    "model_4 = cats_and_dogs_df[['actual', 'model4']]\n",
    "model_4.rename(columns={'model4' : 'predict'}, inplace=True)\n",
    "pd.crosstab(model_4.actual, model_4.predict)"
   ]
  },
  {
   "cell_type": "markdown",
   "id": "wireless-completion",
   "metadata": {},
   "source": [
    "<li>In terms of accuracy, how do the various models compare to the baseline model? Are any of the models better than the baseline?"
   ]
  },
  {
   "cell_type": "code",
   "execution_count": 132,
   "id": "noted-protocol",
   "metadata": {},
   "outputs": [
    {
     "data": {
      "text/html": [
       "<div>\n",
       "<style scoped>\n",
       "    .dataframe tbody tr th:only-of-type {\n",
       "        vertical-align: middle;\n",
       "    }\n",
       "\n",
       "    .dataframe tbody tr th {\n",
       "        vertical-align: top;\n",
       "    }\n",
       "\n",
       "    .dataframe thead th {\n",
       "        text-align: right;\n",
       "    }\n",
       "</style>\n",
       "<table border=\"1\" class=\"dataframe\">\n",
       "  <thead>\n",
       "    <tr style=\"text-align: right;\">\n",
       "      <th></th>\n",
       "      <th>actual</th>\n",
       "      <th>predict</th>\n",
       "      <th>baseline</th>\n",
       "    </tr>\n",
       "  </thead>\n",
       "  <tbody>\n",
       "    <tr>\n",
       "      <th>0</th>\n",
       "      <td>cat</td>\n",
       "      <td>cat</td>\n",
       "      <td>dog</td>\n",
       "    </tr>\n",
       "    <tr>\n",
       "      <th>1</th>\n",
       "      <td>dog</td>\n",
       "      <td>dog</td>\n",
       "      <td>dog</td>\n",
       "    </tr>\n",
       "    <tr>\n",
       "      <th>2</th>\n",
       "      <td>dog</td>\n",
       "      <td>cat</td>\n",
       "      <td>dog</td>\n",
       "    </tr>\n",
       "    <tr>\n",
       "      <th>3</th>\n",
       "      <td>dog</td>\n",
       "      <td>dog</td>\n",
       "      <td>dog</td>\n",
       "    </tr>\n",
       "    <tr>\n",
       "      <th>4</th>\n",
       "      <td>cat</td>\n",
       "      <td>cat</td>\n",
       "      <td>dog</td>\n",
       "    </tr>\n",
       "  </tbody>\n",
       "</table>\n",
       "</div>"
      ],
      "text/plain": [
       "  actual predict baseline\n",
       "0    cat     cat      dog\n",
       "1    dog     dog      dog\n",
       "2    dog     cat      dog\n",
       "3    dog     dog      dog\n",
       "4    cat     cat      dog"
      ]
     },
     "execution_count": 132,
     "metadata": {},
     "output_type": "execute_result"
    }
   ],
   "source": [
    "# Define \"dog\" as baseline outcome\n",
    "model_1['baseline'] = \"dog\"\n",
    "model_1.head()"
   ]
  },
  {
   "cell_type": "code",
   "execution_count": 133,
   "id": "polished-sweden",
   "metadata": {},
   "outputs": [
    {
     "name": "stdout",
     "output_type": "stream",
     "text": [
      "model 1 accuracy:  80.74%\n",
      "baseline accuracy:  65.08%\n"
     ]
    }
   ],
   "source": [
    "model_1_accuracy = (model_1.predict == model_1.actual).mean()\n",
    "base_accuracy = (model_1.baseline == model_1.actual).mean()\n",
    "\n",
    "print(f\"model 1 accuracy:  {model_1_accuracy:.2%}\")\n",
    "print(f\"baseline accuracy:  {base_accuracy:.2%}\")"
   ]
  },
  {
   "cell_type": "code",
   "execution_count": 134,
   "id": "protecting-dependence",
   "metadata": {},
   "outputs": [
    {
     "name": "stdout",
     "output_type": "stream",
     "text": [
      "model 2 accuracy:  63.04%\n",
      "baseline accuracy:  65.08%\n"
     ]
    }
   ],
   "source": [
    "model_2['baseline'] = \"dog\"\n",
    "model_2_accuracy = (model_2.predict == model_2.actual).mean()\n",
    "base_accuracy = (model_2.baseline == model_2.actual).mean()\n",
    "\n",
    "print(f\"model 2 accuracy:  {model_2_accuracy:.2%}\")\n",
    "print(f\"baseline accuracy:  {base_accuracy:.2%}\")"
   ]
  },
  {
   "cell_type": "code",
   "execution_count": 135,
   "id": "corporate-sender",
   "metadata": {},
   "outputs": [
    {
     "name": "stdout",
     "output_type": "stream",
     "text": [
      "model 3 accuracy:  50.96%\n",
      "baseline accuracy:  65.08%\n"
     ]
    }
   ],
   "source": [
    "model_3['baseline'] = \"dog\"\n",
    "model_3_accuracy = (model_3.predict == model_3.actual).mean()\n",
    "base_accuracy = (model_3.baseline == model_3.actual).mean()\n",
    "\n",
    "print(f\"model 3 accuracy:  {model_3_accuracy:.2%}\")\n",
    "print(f\"baseline accuracy:  {base_accuracy:.2%}\")"
   ]
  },
  {
   "cell_type": "code",
   "execution_count": 136,
   "id": "historic-lithuania",
   "metadata": {},
   "outputs": [
    {
     "name": "stdout",
     "output_type": "stream",
     "text": [
      "model 4 accuracy:  74.26%\n",
      "baseline accuracy:  65.08%\n"
     ]
    }
   ],
   "source": [
    "model_4['baseline'] = \"dog\"\n",
    "model_4_accuracy = (model_4.predict == model_4.actual).mean()\n",
    "base_accuracy = (model_4.baseline == model_4.actual).mean()\n",
    "\n",
    "print(f\"model 4 accuracy:  {model_4_accuracy:.2%}\")\n",
    "print(f\"baseline accuracy:  {base_accuracy:.2%}\")"
   ]
  },
  {
   "cell_type": "markdown",
   "id": "provincial-resident",
   "metadata": {},
   "source": [
    "#### Models 1 and 4 have higher accuracies higher than the baseline."
   ]
  },
  {
   "cell_type": "markdown",
   "id": "monthly-layout",
   "metadata": {},
   "source": [
    "<li>Suppose you are working on a team that solely deals with dog pictures. Which of these models would you recomend for Phase I? For Phase II?"
   ]
  },
  {
   "cell_type": "code",
   "execution_count": 137,
   "id": "better-approval",
   "metadata": {},
   "outputs": [
    {
     "data": {
      "text/html": [
       "<div>\n",
       "<style scoped>\n",
       "    .dataframe tbody tr th:only-of-type {\n",
       "        vertical-align: middle;\n",
       "    }\n",
       "\n",
       "    .dataframe tbody tr th {\n",
       "        vertical-align: top;\n",
       "    }\n",
       "\n",
       "    .dataframe thead th {\n",
       "        text-align: right;\n",
       "    }\n",
       "</style>\n",
       "<table border=\"1\" class=\"dataframe\">\n",
       "  <thead>\n",
       "    <tr style=\"text-align: right;\">\n",
       "      <th></th>\n",
       "      <th>actual</th>\n",
       "      <th>predict</th>\n",
       "      <th>baseline</th>\n",
       "    </tr>\n",
       "  </thead>\n",
       "  <tbody>\n",
       "    <tr>\n",
       "      <th>1</th>\n",
       "      <td>dog</td>\n",
       "      <td>dog</td>\n",
       "      <td>dog</td>\n",
       "    </tr>\n",
       "    <tr>\n",
       "      <th>2</th>\n",
       "      <td>dog</td>\n",
       "      <td>cat</td>\n",
       "      <td>dog</td>\n",
       "    </tr>\n",
       "    <tr>\n",
       "      <th>3</th>\n",
       "      <td>dog</td>\n",
       "      <td>dog</td>\n",
       "      <td>dog</td>\n",
       "    </tr>\n",
       "    <tr>\n",
       "      <th>5</th>\n",
       "      <td>dog</td>\n",
       "      <td>dog</td>\n",
       "      <td>dog</td>\n",
       "    </tr>\n",
       "    <tr>\n",
       "      <th>8</th>\n",
       "      <td>dog</td>\n",
       "      <td>dog</td>\n",
       "      <td>dog</td>\n",
       "    </tr>\n",
       "  </tbody>\n",
       "</table>\n",
       "</div>"
      ],
      "text/plain": [
       "  actual predict baseline\n",
       "1    dog     dog      dog\n",
       "2    dog     cat      dog\n",
       "3    dog     dog      dog\n",
       "5    dog     dog      dog\n",
       "8    dog     dog      dog"
      ]
     },
     "execution_count": 137,
     "metadata": {},
     "output_type": "execute_result"
    }
   ],
   "source": [
    "# Since phase I is unsupervised, the cost of a false negative is high since that picture will not make it to phase II.\n",
    "# The cost of false positives are low because a human can intervene in phase II,\n",
    "# so between model 1 and 4 (high accuracy models), we should use recall to determine which to use in phase I.\n",
    "\n",
    "model_1_subset = model_1[model_1.actual == 'dog']\n",
    "model_1_subset.head()"
   ]
  },
  {
   "cell_type": "code",
   "execution_count": 138,
   "id": "higher-respect",
   "metadata": {},
   "outputs": [
    {
     "name": "stdout",
     "output_type": "stream",
     "text": [
      "model 1 recall:  80.33%\n",
      "baseline recall:  100.00%\n"
     ]
    }
   ],
   "source": [
    "model_1_recall = (model_1_subset.predict == model_1_subset.actual).mean()\n",
    "base_recall = (model_1_subset.baseline == model_1_subset.actual).mean()\n",
    "\n",
    "print(f\"model 1 recall:  {model_1_recall:.2%}\")\n",
    "print(f\"baseline recall:  {base_recall:.2%}\")"
   ]
  },
  {
   "cell_type": "code",
   "execution_count": 139,
   "id": "level-ensemble",
   "metadata": {},
   "outputs": [
    {
     "name": "stdout",
     "output_type": "stream",
     "text": [
      "model 4 recall:  95.57%\n",
      "baseline recall:  100.00%\n"
     ]
    }
   ],
   "source": [
    "model_4_subset = model_4[model_4.actual == 'dog']\n",
    "model_4_recall = (model_4_subset.predict == model_4_subset.actual).mean()\n",
    "base_recall = (model_4_subset.baseline == model_4_subset.actual).mean()\n",
    "\n",
    "print(f\"model 4 recall:  {model_4_recall:.2%}\")\n",
    "print(f\"baseline recall:  {base_recall:.2%}\")"
   ]
  },
  {
   "cell_type": "markdown",
   "id": "mexican-copper",
   "metadata": {},
   "source": [
    "### I would choose model 4 for phase I since it has a higher recall than model 1."
   ]
  },
  {
   "cell_type": "markdown",
   "id": "desperate-regression",
   "metadata": {},
   "source": [
    "### For phase II, since human supervision is present, false negatives and false positives become less costly, so I would use model 1 since it is the more accurate model."
   ]
  },
  {
   "cell_type": "code",
   "execution_count": 144,
   "id": "dependent-sequence",
   "metadata": {},
   "outputs": [],
   "source": [
    "# Can also minimize false positives with precision."
   ]
  },
  {
   "cell_type": "markdown",
   "id": "varying-breathing",
   "metadata": {},
   "source": [
    "<li>Suppose you are working on a team that solely deals with cat pictures. Which of these models would you recomend for Phase I? For Phase II?"
   ]
  },
  {
   "cell_type": "code",
   "execution_count": 72,
   "id": "affecting-calculation",
   "metadata": {},
   "outputs": [
    {
     "data": {
      "text/html": [
       "<div>\n",
       "<style scoped>\n",
       "    .dataframe tbody tr th:only-of-type {\n",
       "        vertical-align: middle;\n",
       "    }\n",
       "\n",
       "    .dataframe tbody tr th {\n",
       "        vertical-align: top;\n",
       "    }\n",
       "\n",
       "    .dataframe thead th {\n",
       "        text-align: right;\n",
       "    }\n",
       "</style>\n",
       "<table border=\"1\" class=\"dataframe\">\n",
       "  <thead>\n",
       "    <tr style=\"text-align: right;\">\n",
       "      <th></th>\n",
       "      <th>actual</th>\n",
       "      <th>predict</th>\n",
       "      <th>baseline</th>\n",
       "    </tr>\n",
       "  </thead>\n",
       "  <tbody>\n",
       "    <tr>\n",
       "      <th>0</th>\n",
       "      <td>cat</td>\n",
       "      <td>cat</td>\n",
       "      <td>cat</td>\n",
       "    </tr>\n",
       "    <tr>\n",
       "      <th>1</th>\n",
       "      <td>dog</td>\n",
       "      <td>dog</td>\n",
       "      <td>cat</td>\n",
       "    </tr>\n",
       "    <tr>\n",
       "      <th>2</th>\n",
       "      <td>dog</td>\n",
       "      <td>cat</td>\n",
       "      <td>cat</td>\n",
       "    </tr>\n",
       "    <tr>\n",
       "      <th>3</th>\n",
       "      <td>dog</td>\n",
       "      <td>dog</td>\n",
       "      <td>cat</td>\n",
       "    </tr>\n",
       "    <tr>\n",
       "      <th>4</th>\n",
       "      <td>cat</td>\n",
       "      <td>cat</td>\n",
       "      <td>cat</td>\n",
       "    </tr>\n",
       "  </tbody>\n",
       "</table>\n",
       "</div>"
      ],
      "text/plain": [
       "  actual predict baseline\n",
       "0    cat     cat      cat\n",
       "1    dog     dog      cat\n",
       "2    dog     cat      cat\n",
       "3    dog     dog      cat\n",
       "4    cat     cat      cat"
      ]
     },
     "execution_count": 72,
     "metadata": {},
     "output_type": "execute_result"
    }
   ],
   "source": [
    "# Define cat as the baseline outcome\n",
    "model_1['baseline'] = \"cat\"\n",
    "model_1.head()"
   ]
  },
  {
   "cell_type": "code",
   "execution_count": 73,
   "id": "married-miracle",
   "metadata": {},
   "outputs": [
    {
     "name": "stdout",
     "output_type": "stream",
     "text": [
      "model 1 recall:  81.50%\n",
      "baseline recall:  100.00%\n"
     ]
    }
   ],
   "source": [
    "model_1_subset = model_1[model_1.actual == 'cat']\n",
    "model_1_recall = (model_1_subset.predict == model_1_subset.actual).mean()\n",
    "base_recall = (model_1_subset.baseline == model_1_subset.actual).mean()\n",
    "\n",
    "print(f\"model 1 recall:  {model_1_recall:.2%}\")\n",
    "print(f\"baseline recall:  {base_recall:.2%}\")"
   ]
  },
  {
   "cell_type": "code",
   "execution_count": 74,
   "id": "documented-rapid",
   "metadata": {},
   "outputs": [
    {
     "name": "stdout",
     "output_type": "stream",
     "text": [
      "model 2 recall:  89.06%\n",
      "baseline recall:  100.00%\n"
     ]
    }
   ],
   "source": [
    "model_2['baseline'] = \"cat\"\n",
    "model_2_subset = model_2[model_2.actual == 'cat']\n",
    "model_2_recall = (model_2_subset.predict == model_2_subset.actual).mean()\n",
    "base_recall = (model_2_subset.baseline == model_2_subset.actual).mean()\n",
    "\n",
    "print(f\"model 2 recall:  {model_2_recall:.2%}\")\n",
    "print(f\"baseline recall:  {base_recall:.2%}\")"
   ]
  },
  {
   "cell_type": "code",
   "execution_count": 75,
   "id": "handled-expense",
   "metadata": {},
   "outputs": [
    {
     "name": "stdout",
     "output_type": "stream",
     "text": [
      "model 3 recall:  51.15%\n",
      "baseline recall:  100.00%\n"
     ]
    }
   ],
   "source": [
    "model_3['baseline'] = \"cat\"\n",
    "model_3_subset = model_3[model_3.actual == 'cat']\n",
    "model_3_recall = (model_3_subset.predict == model_3_subset.actual).mean()\n",
    "base_recall = (model_3_subset.baseline == model_3_subset.actual).mean()\n",
    "\n",
    "print(f\"model 3 recall:  {model_3_recall:.2%}\")\n",
    "print(f\"baseline recall:  {base_recall:.2%}\")"
   ]
  },
  {
   "cell_type": "code",
   "execution_count": 76,
   "id": "lucky-surrey",
   "metadata": {},
   "outputs": [
    {
     "name": "stdout",
     "output_type": "stream",
     "text": [
      "model 4 recall:  34.54%\n",
      "baseline recall:  100.00%\n"
     ]
    }
   ],
   "source": [
    "model_4['baseline'] = \"cat\"\n",
    "model_4_subset = model_4[model_4.actual == 'cat']\n",
    "model_4_recall = (model_4_subset.predict == model_4_subset.actual).mean()\n",
    "base_recall = (model_4_subset.baseline == model_4_subset.actual).mean()\n",
    "\n",
    "print(f\"model 4 recall:  {model_4_recall:.2%}\")\n",
    "print(f\"baseline recall:  {base_recall:.2%}\")"
   ]
  },
  {
   "cell_type": "markdown",
   "id": "classical-delivery",
   "metadata": {},
   "source": [
    "### Choose model 2 for phase I cats"
   ]
  },
  {
   "cell_type": "code",
   "execution_count": 79,
   "id": "exact-frederick",
   "metadata": {},
   "outputs": [
    {
     "name": "stdout",
     "output_type": "stream",
     "text": [
      "model 1 accuracy:  80.74%\n",
      "baseline accuracy:  34.92%\n"
     ]
    }
   ],
   "source": [
    "# Determine highest accuracy model\n",
    "model_1_accuracy = (model_1.predict == model_1.actual).mean()\n",
    "base_accuracy = (model_1.baseline == model_1.actual).mean()\n",
    "\n",
    "print(f\"model 1 accuracy:  {model_1_accuracy:.2%}\")\n",
    "print(f\"baseline accuracy:  {base_accuracy:.2%}\")"
   ]
  },
  {
   "cell_type": "code",
   "execution_count": 80,
   "id": "steady-asthma",
   "metadata": {},
   "outputs": [
    {
     "name": "stdout",
     "output_type": "stream",
     "text": [
      "model 2 accuracy:  63.04%\n",
      "baseline accuracy:  34.92%\n"
     ]
    }
   ],
   "source": [
    "model_2_accuracy = (model_2.predict == model_2.actual).mean()\n",
    "base_accuracy = (model_2.baseline == model_2.actual).mean()\n",
    "\n",
    "print(f\"model 2 accuracy:  {model_2_accuracy:.2%}\")\n",
    "print(f\"baseline accuracy:  {base_accuracy:.2%}\")"
   ]
  },
  {
   "cell_type": "code",
   "execution_count": 81,
   "id": "solid-compiler",
   "metadata": {},
   "outputs": [
    {
     "name": "stdout",
     "output_type": "stream",
     "text": [
      "model 3 accuracy:  50.96%\n",
      "baseline accuracy:  34.92%\n"
     ]
    }
   ],
   "source": [
    "model_3_accuracy = (model_3.predict == model_3.actual).mean()\n",
    "base_accuracy = (model_3.baseline == model_3.actual).mean()\n",
    "\n",
    "print(f\"model 3 accuracy:  {model_3_accuracy:.2%}\")\n",
    "print(f\"baseline accuracy:  {base_accuracy:.2%}\")"
   ]
  },
  {
   "cell_type": "code",
   "execution_count": 82,
   "id": "joined-custody",
   "metadata": {},
   "outputs": [
    {
     "name": "stdout",
     "output_type": "stream",
     "text": [
      "model 4 accuracy:  74.26%\n",
      "baseline accuracy:  34.92%\n"
     ]
    }
   ],
   "source": [
    "model_4_accuracy = (model_4.predict == model_4.actual).mean()\n",
    "base_accuracy = (model_4.baseline == model_4.actual).mean()\n",
    "\n",
    "print(f\"model 4 accuracy:  {model_4_accuracy:.2%}\")\n",
    "print(f\"baseline accuracy:  {base_accuracy:.2%}\")"
   ]
  },
  {
   "cell_type": "markdown",
   "id": "alpine-involvement",
   "metadata": {},
   "source": [
    "#### I would choose model 1 for phase II cats."
   ]
  },
  {
   "cell_type": "code",
   "execution_count": 145,
   "id": "polyphonic-hours",
   "metadata": {},
   "outputs": [],
   "source": [
    "# Choose model 4 for highest precision in phase II cats"
   ]
  },
  {
   "cell_type": "markdown",
   "id": "latest-leave",
   "metadata": {},
   "source": [
    "### 5. Follow the links below to read the documentation about each function, then apply those functions to the data from the previous problem."
   ]
  },
  {
   "cell_type": "code",
   "execution_count": 84,
   "id": "underlying-explorer",
   "metadata": {},
   "outputs": [
    {
     "data": {
      "text/plain": [
       "0.8074"
      ]
     },
     "execution_count": 84,
     "metadata": {},
     "output_type": "execute_result"
    }
   ],
   "source": [
    "skl_acc_m1 = accuracy_score(model_1.actual, model_1.predict)\n",
    "skl_acc_m1"
   ]
  },
  {
   "cell_type": "code",
   "execution_count": 93,
   "id": "practical-sympathy",
   "metadata": {},
   "outputs": [
    {
     "data": {
      "text/plain": [
       "0.6897721764420747"
      ]
     },
     "execution_count": 93,
     "metadata": {},
     "output_type": "execute_result"
    }
   ],
   "source": [
    "skl_prec_m1 = precision_score(model_1.actual, model_1.predict, pos_label='cat')\n",
    "skl_prec_m1"
   ]
  },
  {
   "cell_type": "code",
   "execution_count": 94,
   "id": "synthetic-handling",
   "metadata": {},
   "outputs": [
    {
     "data": {
      "text/plain": [
       "0.8150057273768614"
      ]
     },
     "execution_count": 94,
     "metadata": {},
     "output_type": "execute_result"
    }
   ],
   "source": [
    "skl_recall_m1 = recall_score(model_1.actual, model_1.predict, pos_label='cat')\n",
    "skl_recall_m1"
   ]
  },
  {
   "cell_type": "code",
   "execution_count": 96,
   "id": "declared-tender",
   "metadata": {},
   "outputs": [
    {
     "name": "stdout",
     "output_type": "stream",
     "text": [
      "              precision    recall  f1-score   support\n",
      "\n",
      "         cat       0.69      0.82      0.75      1746\n",
      "         dog       0.89      0.80      0.84      3254\n",
      "\n",
      "    accuracy                           0.81      5000\n",
      "   macro avg       0.79      0.81      0.80      5000\n",
      "weighted avg       0.82      0.81      0.81      5000\n",
      "\n"
     ]
    }
   ],
   "source": [
    "print(classification_report(model_1.actual, model_1.predict))"
   ]
  },
  {
   "cell_type": "code",
   "execution_count": null,
   "id": "coated-triangle",
   "metadata": {},
   "outputs": [],
   "source": []
  }
 ],
 "metadata": {
  "kernelspec": {
   "display_name": "Python 3",
   "language": "python",
   "name": "python3"
  },
  "language_info": {
   "codemirror_mode": {
    "name": "ipython",
    "version": 3
   },
   "file_extension": ".py",
   "mimetype": "text/x-python",
   "name": "python",
   "nbconvert_exporter": "python",
   "pygments_lexer": "ipython3",
   "version": "3.8.5"
  }
 },
 "nbformat": 4,
 "nbformat_minor": 5
}
