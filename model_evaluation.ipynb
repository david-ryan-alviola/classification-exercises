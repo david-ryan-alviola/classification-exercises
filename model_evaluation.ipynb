{
 "cells": [
  {
   "cell_type": "code",
   "execution_count": 9,
   "id": "ceramic-sound",
   "metadata": {},
   "outputs": [],
   "source": [
    "import pandas as pd\n",
    "import matplotlib.pyplot as plt\n",
    "import seaborn as sns\n",
    "import warnings as warn\n",
    "import sys\n",
    "import env\n",
    "import numpy as np\n",
    "\n",
    "sys.path.append(env.util_repo)\n",
    "\n",
    "from pydataset import data\n",
    "from sklearn.model_selection import train_test_split\n",
    "from scipy import stats\n",
    "from utilities import evaluate_hypothesis_ttest, evaluate_hypothesis_pcorrelation\n",
    "\n",
    "warn.filterwarnings(\"ignore\")"
   ]
  },
  {
   "cell_type": "markdown",
   "id": "commercial-baseball",
   "metadata": {},
   "source": [
    "### 1. Create a new file named model_evaluation.py or model_evaluation.ipynb for these exercises."
   ]
  },
  {
   "cell_type": "markdown",
   "id": "executive-place",
   "metadata": {},
   "source": [
    "### 2. Given the following confusion matrix, evaluate (by hand) the model's performance.\n",
    "\n",
    "|               | pred dog   | pred cat   |\n",
    "|:------------  |-----------:|-----------:|\n",
    "| actual dog    |         46 |         7  |\n",
    "| actual cat    |         13 |         34 |"
   ]
  },
  {
   "cell_type": "code",
   "execution_count": 8,
   "id": "confidential-device",
   "metadata": {},
   "outputs": [
    {
     "name": "stdout",
     "output_type": "stream",
     "text": [
      "Accuracy:  80.0%\n",
      "Precision:  77.97%\n",
      "Recall:  86.79%\n"
     ]
    }
   ],
   "source": [
    "# Dogs are the 'positive' outcome\n",
    "accuracy = (46 + 34) / (46 + 7 + 13 + 34)\n",
    "print(f\"Accuracy:  {round(accuracy * 100, 2)}%\")\n",
    "\n",
    "precision = 46 / (46 + 13)\n",
    "print(f\"Precision:  {round(precision * 100, 2)}%\")\n",
    "\n",
    "recall = 46 / (46 + 7)\n",
    "print(f\"Recall:  {round(recall * 100, 2)}%\")"
   ]
  },
  {
   "cell_type": "markdown",
   "id": "cloudy-asset",
   "metadata": {},
   "source": [
    "<li>In the context of this problem, what is a false positive?\n",
    "<p>If we set dogs as the 'positive' outcome, false positives are when we predict dog, but actually get a cat. There were 13 false positives."
   ]
  },
  {
   "cell_type": "markdown",
   "id": "demanding-medline",
   "metadata": {},
   "source": [
    "<li>In the context of this problem, what is a false negative?\n",
    "<p>A false negative is when we predict cat, but actually get a dog. There were 7 false negatives."
   ]
  },
  {
   "cell_type": "markdown",
   "id": "behavioral-dining",
   "metadata": {},
   "source": [
    "<li>How would you describe this model?\n",
    "<p>This model is highly accurate since it correctly predicted the outcomes 80% of the time which means that percentage of all predictions matched the actual result. It is also highly precise when predicting positive outcomes since it has a precision of 78% which means that percentage of dog predictions were correct. The recall rate is also high at 87% which means that percentage of actual dog results was predicted correctly."
   ]
  },
  {
   "cell_type": "markdown",
   "id": "technical-perry",
   "metadata": {},
   "source": [
    "### 3. You are working as a datascientist working for Codeup Cody Creator (C3 for short), a rubber-duck manufacturing plant.\n",
    "\n",
    "#### Unfortunately, some of the rubber ducks that are produced will have defects. Your team has built several models that try to predict those defects, and the data from their predictions can be found here.\n",
    "\n",
    "#### Use the predictions dataset and pandas to help answer the following questions:"
   ]
  },
  {
   "cell_type": "code",
   "execution_count": 11,
   "id": "piano-needle",
   "metadata": {},
   "outputs": [
    {
     "data": {
      "text/html": [
       "<div>\n",
       "<style scoped>\n",
       "    .dataframe tbody tr th:only-of-type {\n",
       "        vertical-align: middle;\n",
       "    }\n",
       "\n",
       "    .dataframe tbody tr th {\n",
       "        vertical-align: top;\n",
       "    }\n",
       "\n",
       "    .dataframe thead th {\n",
       "        text-align: right;\n",
       "    }\n",
       "</style>\n",
       "<table border=\"1\" class=\"dataframe\">\n",
       "  <thead>\n",
       "    <tr style=\"text-align: right;\">\n",
       "      <th></th>\n",
       "      <th>actual</th>\n",
       "      <th>model1</th>\n",
       "      <th>model2</th>\n",
       "      <th>model3</th>\n",
       "    </tr>\n",
       "  </thead>\n",
       "  <tbody>\n",
       "    <tr>\n",
       "      <th>0</th>\n",
       "      <td>No Defect</td>\n",
       "      <td>No Defect</td>\n",
       "      <td>Defect</td>\n",
       "      <td>No Defect</td>\n",
       "    </tr>\n",
       "    <tr>\n",
       "      <th>1</th>\n",
       "      <td>No Defect</td>\n",
       "      <td>No Defect</td>\n",
       "      <td>Defect</td>\n",
       "      <td>Defect</td>\n",
       "    </tr>\n",
       "    <tr>\n",
       "      <th>2</th>\n",
       "      <td>No Defect</td>\n",
       "      <td>No Defect</td>\n",
       "      <td>Defect</td>\n",
       "      <td>No Defect</td>\n",
       "    </tr>\n",
       "    <tr>\n",
       "      <th>3</th>\n",
       "      <td>No Defect</td>\n",
       "      <td>Defect</td>\n",
       "      <td>Defect</td>\n",
       "      <td>Defect</td>\n",
       "    </tr>\n",
       "    <tr>\n",
       "      <th>4</th>\n",
       "      <td>No Defect</td>\n",
       "      <td>No Defect</td>\n",
       "      <td>Defect</td>\n",
       "      <td>No Defect</td>\n",
       "    </tr>\n",
       "  </tbody>\n",
       "</table>\n",
       "</div>"
      ],
      "text/plain": [
       "      actual     model1  model2     model3\n",
       "0  No Defect  No Defect  Defect  No Defect\n",
       "1  No Defect  No Defect  Defect     Defect\n",
       "2  No Defect  No Defect  Defect  No Defect\n",
       "3  No Defect     Defect  Defect     Defect\n",
       "4  No Defect  No Defect  Defect  No Defect"
      ]
     },
     "execution_count": 11,
     "metadata": {},
     "output_type": "execute_result"
    }
   ],
   "source": [
    "ducks_df = pd.read_csv(env.data_path + \"/c3.csv\")\n",
    "ducks_df.head()"
   ]
  },
  {
   "cell_type": "code",
   "execution_count": 12,
   "id": "valid-raleigh",
   "metadata": {},
   "outputs": [
    {
     "data": {
      "text/plain": [
       "(200, 4)"
      ]
     },
     "execution_count": 12,
     "metadata": {},
     "output_type": "execute_result"
    }
   ],
   "source": [
    "ducks_df.shape"
   ]
  },
  {
   "cell_type": "code",
   "execution_count": 18,
   "id": "rough-young",
   "metadata": {},
   "outputs": [
    {
     "data": {
      "text/html": [
       "<div>\n",
       "<style scoped>\n",
       "    .dataframe tbody tr th:only-of-type {\n",
       "        vertical-align: middle;\n",
       "    }\n",
       "\n",
       "    .dataframe tbody tr th {\n",
       "        vertical-align: top;\n",
       "    }\n",
       "\n",
       "    .dataframe thead th {\n",
       "        text-align: right;\n",
       "    }\n",
       "</style>\n",
       "<table border=\"1\" class=\"dataframe\">\n",
       "  <thead>\n",
       "    <tr style=\"text-align: right;\">\n",
       "      <th>actual</th>\n",
       "      <th>Defect</th>\n",
       "      <th>No Defect</th>\n",
       "    </tr>\n",
       "    <tr>\n",
       "      <th>predict</th>\n",
       "      <th></th>\n",
       "      <th></th>\n",
       "    </tr>\n",
       "  </thead>\n",
       "  <tbody>\n",
       "    <tr>\n",
       "      <th>Defect</th>\n",
       "      <td>8</td>\n",
       "      <td>2</td>\n",
       "    </tr>\n",
       "    <tr>\n",
       "      <th>No Defect</th>\n",
       "      <td>8</td>\n",
       "      <td>182</td>\n",
       "    </tr>\n",
       "  </tbody>\n",
       "</table>\n",
       "</div>"
      ],
      "text/plain": [
       "actual     Defect  No Defect\n",
       "predict                     \n",
       "Defect          8          2\n",
       "No Defect       8        182"
      ]
     },
     "execution_count": 18,
     "metadata": {},
     "output_type": "execute_result"
    }
   ],
   "source": [
    "model_1 = ducks_df[['actual', 'model1']]\n",
    "model_1.rename(columns={'model1' : 'predict'}, inplace=True)\n",
    "pd.crosstab(model_1.predict, model_1.actual)"
   ]
  },
  {
   "cell_type": "code",
   "execution_count": 19,
   "id": "approved-focus",
   "metadata": {},
   "outputs": [
    {
     "data": {
      "text/html": [
       "<div>\n",
       "<style scoped>\n",
       "    .dataframe tbody tr th:only-of-type {\n",
       "        vertical-align: middle;\n",
       "    }\n",
       "\n",
       "    .dataframe tbody tr th {\n",
       "        vertical-align: top;\n",
       "    }\n",
       "\n",
       "    .dataframe thead th {\n",
       "        text-align: right;\n",
       "    }\n",
       "</style>\n",
       "<table border=\"1\" class=\"dataframe\">\n",
       "  <thead>\n",
       "    <tr style=\"text-align: right;\">\n",
       "      <th>actual</th>\n",
       "      <th>Defect</th>\n",
       "      <th>No Defect</th>\n",
       "    </tr>\n",
       "    <tr>\n",
       "      <th>predict</th>\n",
       "      <th></th>\n",
       "      <th></th>\n",
       "    </tr>\n",
       "  </thead>\n",
       "  <tbody>\n",
       "    <tr>\n",
       "      <th>Defect</th>\n",
       "      <td>9</td>\n",
       "      <td>81</td>\n",
       "    </tr>\n",
       "    <tr>\n",
       "      <th>No Defect</th>\n",
       "      <td>7</td>\n",
       "      <td>103</td>\n",
       "    </tr>\n",
       "  </tbody>\n",
       "</table>\n",
       "</div>"
      ],
      "text/plain": [
       "actual     Defect  No Defect\n",
       "predict                     \n",
       "Defect          9         81\n",
       "No Defect       7        103"
      ]
     },
     "execution_count": 19,
     "metadata": {},
     "output_type": "execute_result"
    }
   ],
   "source": [
    "model_2 = ducks_df[['actual', 'model2']]\n",
    "model_2.rename(columns={'model2' : 'predict'}, inplace=True)\n",
    "pd.crosstab(model_2.predict, model_2.actual)"
   ]
  },
  {
   "cell_type": "code",
   "execution_count": 20,
   "id": "careful-developer",
   "metadata": {},
   "outputs": [
    {
     "data": {
      "text/html": [
       "<div>\n",
       "<style scoped>\n",
       "    .dataframe tbody tr th:only-of-type {\n",
       "        vertical-align: middle;\n",
       "    }\n",
       "\n",
       "    .dataframe tbody tr th {\n",
       "        vertical-align: top;\n",
       "    }\n",
       "\n",
       "    .dataframe thead th {\n",
       "        text-align: right;\n",
       "    }\n",
       "</style>\n",
       "<table border=\"1\" class=\"dataframe\">\n",
       "  <thead>\n",
       "    <tr style=\"text-align: right;\">\n",
       "      <th>actual</th>\n",
       "      <th>Defect</th>\n",
       "      <th>No Defect</th>\n",
       "    </tr>\n",
       "    <tr>\n",
       "      <th>predict</th>\n",
       "      <th></th>\n",
       "      <th></th>\n",
       "    </tr>\n",
       "  </thead>\n",
       "  <tbody>\n",
       "    <tr>\n",
       "      <th>Defect</th>\n",
       "      <td>13</td>\n",
       "      <td>86</td>\n",
       "    </tr>\n",
       "    <tr>\n",
       "      <th>No Defect</th>\n",
       "      <td>3</td>\n",
       "      <td>98</td>\n",
       "    </tr>\n",
       "  </tbody>\n",
       "</table>\n",
       "</div>"
      ],
      "text/plain": [
       "actual     Defect  No Defect\n",
       "predict                     \n",
       "Defect         13         86\n",
       "No Defect       3         98"
      ]
     },
     "execution_count": 20,
     "metadata": {},
     "output_type": "execute_result"
    }
   ],
   "source": [
    "model_3 = ducks_df[['actual', 'model3']]\n",
    "model_3.rename(columns={'model3' : 'predict'}, inplace=True)\n",
    "pd.crosstab(model_3.predict, model_3.actual)"
   ]
  },
  {
   "cell_type": "markdown",
   "id": "paperback-circus",
   "metadata": {},
   "source": [
    "<li>An internal team wants to investigate the cause of the manufacturing defects. They tell you that they want to identify as many of the ducks that have a defect as possible. Which evaluation metric would be appropriate here? Which model would be the best fit for this use case?"
   ]
  },
  {
   "cell_type": "code",
   "execution_count": 29,
   "id": "systematic-incentive",
   "metadata": {},
   "outputs": [
    {
     "data": {
      "text/plain": [
       "0.5"
      ]
     },
     "execution_count": 29,
     "metadata": {},
     "output_type": "execute_result"
    }
   ],
   "source": [
    "# Define 'Defect' as the positive outcome then measure recall of each model.\n",
    "# Since missing a defective duck would be costly, we should optimize for recall.\n",
    "model_1_recall = 8 / (8 + 8)\n",
    "model_1_recall"
   ]
  },
  {
   "cell_type": "code",
   "execution_count": 30,
   "id": "representative-retreat",
   "metadata": {},
   "outputs": [
    {
     "data": {
      "text/plain": [
       "0.5625"
      ]
     },
     "execution_count": 30,
     "metadata": {},
     "output_type": "execute_result"
    }
   ],
   "source": [
    "model_2_recall = 9 / (9 + 7)\n",
    "model_2_recall"
   ]
  },
  {
   "cell_type": "code",
   "execution_count": 31,
   "id": "diverse-pipeline",
   "metadata": {},
   "outputs": [
    {
     "data": {
      "text/plain": [
       "0.8125"
      ]
     },
     "execution_count": 31,
     "metadata": {},
     "output_type": "execute_result"
    }
   ],
   "source": [
    "model_3_recall = 13 / (13 + 3)\n",
    "model_3_recall"
   ]
  },
  {
   "cell_type": "markdown",
   "id": "enabling-brook",
   "metadata": {},
   "source": [
    "#### Model 3 has the best recall at 81.25% suggesting it minimizes false negatives."
   ]
  },
  {
   "cell_type": "markdown",
   "id": "flying-disability",
   "metadata": {},
   "source": [
    "<li> Recently several stories in the local news have come out highlighting customers who received a rubber duck with a defect, and portraying C3 in a bad light. The PR team has decided to launch a program that gives customers with a defective duck a vacation to Hawaii. They need you to predict which ducks will have defects, but tell you the really don't want to accidentally give out a vacation package when the duck really doesn't have a defect. Which evaluation metric would be appropriate here? Which model would be the best fit for this use case?"
   ]
  },
  {
   "cell_type": "code",
   "execution_count": 32,
   "id": "stone-hundred",
   "metadata": {},
   "outputs": [
    {
     "data": {
      "text/plain": [
       "0.8"
      ]
     },
     "execution_count": 32,
     "metadata": {},
     "output_type": "execute_result"
    }
   ],
   "source": [
    "# Define 'Defect' as the positive outcome and then measure precision.\n",
    "# Since false positives become costly with the free vacation, it becomes important to optimize for precision.\n",
    "# This will maximize the percentage of positive predictions.\n",
    "\n",
    "model_1_precision = 8 / (8 + 2)\n",
    "model_1_precision"
   ]
  },
  {
   "cell_type": "code",
   "execution_count": 33,
   "id": "green-graphics",
   "metadata": {},
   "outputs": [
    {
     "data": {
      "text/plain": [
       "0.1"
      ]
     },
     "execution_count": 33,
     "metadata": {},
     "output_type": "execute_result"
    }
   ],
   "source": [
    "model_2_precision = 9 / (9 + 81)\n",
    "model_2_precision"
   ]
  },
  {
   "cell_type": "code",
   "execution_count": 35,
   "id": "stock-techno",
   "metadata": {},
   "outputs": [
    {
     "data": {
      "text/plain": [
       "0.13131313131313133"
      ]
     },
     "execution_count": 35,
     "metadata": {},
     "output_type": "execute_result"
    }
   ],
   "source": [
    "model_3_precision = 13 / (13 + 86)\n",
    "model_3_precision"
   ]
  },
  {
   "cell_type": "markdown",
   "id": "brave-coffee",
   "metadata": {},
   "source": [
    "#### Model 1 has the highest precision meaning it has the lowest amount of false positives."
   ]
  },
  {
   "cell_type": "code",
   "execution_count": null,
   "id": "conceptual-choir",
   "metadata": {},
   "outputs": [],
   "source": []
  }
 ],
 "metadata": {
  "kernelspec": {
   "display_name": "Python 3",
   "language": "python",
   "name": "python3"
  },
  "language_info": {
   "codemirror_mode": {
    "name": "ipython",
    "version": 3
   },
   "file_extension": ".py",
   "mimetype": "text/x-python",
   "name": "python",
   "nbconvert_exporter": "python",
   "pygments_lexer": "ipython3",
   "version": "3.8.5"
  }
 },
 "nbformat": 4,
 "nbformat_minor": 5
}
